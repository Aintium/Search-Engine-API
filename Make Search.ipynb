{
 "cells": [
  {
   "attachments": {},
   "cell_type": "markdown",
   "metadata": {},
   "source": [
    "# Importing the Requests library"
   ]
  },
  {
   "cell_type": "code",
   "execution_count": 1,
   "metadata": {},
   "outputs": [],
   "source": [
    "import requests"
   ]
  },
  {
   "attachments": {},
   "cell_type": "markdown",
   "metadata": {},
   "source": [
    "This line imports the Requests library which is a popular Python library for making HTTP requests. It allows the Python code to interact with web services and APIs."
   ]
  },
  {
   "attachments": {},
   "cell_type": "markdown",
   "metadata": {},
   "source": [
    "# Setting up the API endpoint URL"
   ]
  },
  {
   "cell_type": "code",
   "execution_count": 2,
   "metadata": {},
   "outputs": [],
   "source": [
    "url = 'https://api.aintium.com/api/search'"
   ]
  },
  {
   "attachments": {},
   "cell_type": "markdown",
   "metadata": {},
   "source": [
    "This line sets the URL of the API endpoint that the Python code will be making a request to.\n",
    "\n"
   ]
  },
  {
   "attachments": {},
   "cell_type": "markdown",
   "metadata": {},
   "source": [
    "# Setting up the request parameters"
   ]
  },
  {
   "cell_type": "code",
   "execution_count": 4,
   "metadata": {},
   "outputs": [],
   "source": [
    "data = {\n",
    "  \"query\": \"شيء مريح للجلوس لاربع اشخاص\",\n",
    "  \"top_k\": 20,\n",
    "  \"user_id\": \"None\"\n",
    "}"
   ]
  },
  {
   "attachments": {},
   "cell_type": "markdown",
   "metadata": {},
   "source": [
    "This sets up the request parameters that will be sent along with the request to the API. In this case, the query parameter specifies the search query, top_k specifies the number of results to be returned and user_id specifies the user ID making the request.\n"
   ]
  },
  {
   "attachments": {},
   "cell_type": "markdown",
   "metadata": {},
   "source": [
    "# Setting up the request headers"
   ]
  },
  {
   "cell_type": "code",
   "execution_count": 5,
   "metadata": {},
   "outputs": [],
   "source": [
    "headers = {'access_token': 'API_KEY'}"
   ]
  },
  {
   "attachments": {},
   "cell_type": "markdown",
   "metadata": {},
   "source": [
    "This line sets the headers for the request. In this case, the access_token header is used to authenticate the request."
   ]
  },
  {
   "attachments": {},
   "cell_type": "markdown",
   "metadata": {},
   "source": [
    "# Making the API request"
   ]
  },
  {
   "cell_type": "code",
   "execution_count": 12,
   "metadata": {},
   "outputs": [],
   "source": [
    "response = requests.post(url, json=data, headers=headers)\n"
   ]
  },
  {
   "cell_type": "code",
   "execution_count": 13,
   "metadata": {},
   "outputs": [
    {
     "data": {
      "text/plain": [
       "<Response [200]>"
      ]
     },
     "execution_count": 13,
     "metadata": {},
     "output_type": "execute_result"
    }
   ],
   "source": [
    "response"
   ]
  },
  {
   "attachments": {},
   "cell_type": "markdown",
   "metadata": {},
   "source": [
    "This line sends a POST request to the API endpoint specified by the url variable. The request data is sent in JSON format using the json parameter, and the headers are sent using the headers parameter. The response from the API is stored in the response variable."
   ]
  },
  {
   "cell_type": "code",
   "execution_count": 15,
   "metadata": {},
   "outputs": [
    {
     "data": {
      "text/plain": [
       "b'[{\"39257457\":{\"name\":\"LIDHULT\",\"category\":\"Sofas & armchairs\",\"short_description\":\"        Corner sofa, 4-seat\"}},{\"29284381\":{\"name\":\"S\\xc3\\x96DERHAMN\",\"category\":\"Sofas & armchairs\",\"short_description\":\"        Corner sofa, 4-seat\"}},{\"49257348\":{\"name\":\"LIDHULT\",\"category\":\"Sofas & armchairs\",\"short_description\":\"        4-seat sofa\"}},{\"99292047\":{\"name\":\"LIDHULT\",\"category\":\"Sofas & armchairs\",\"short_description\":\"        4-seat sofa\"}},{\"99292052\":{\"name\":\"LIDHULT\",\"category\":\"Sofas & armchairs\",\"short_description\":\"        4-seat sofa\"}},{\"69257328\":{\"name\":\"LIDHULT\",\"category\":\"Sofas & armchairs\",\"short_description\":\"        4-seat sofa\"}},{\"79257498\":{\"name\":\"EKTORP\",\"category\":\"Sofas & armchairs\",\"short_description\":\"        Corner sofa, 4-seat\"}},{\"99254677\":{\"name\":\"GR\\xc3\\x96NLID\",\"category\":\"Sofas & armchairs\",\"short_description\":\"        Corner sofa, 4-seat\"}},{\"59256414\":{\"name\":\"GR\\xc3\\x96NLID\",\"category\":\"Sofas & armchairs\",\"short_description\":\"        Corner sofa, 4-seat\"}},{\"79256564\":{\"name\":\"GR\\xc3\\x96NLID\",\"category\":\"Sofas & armchairs\",\"short_description\":\"        Corner sofa, 4-seat\"}},{\"69256569\":{\"name\":\"GR\\xc3\\x96NLID\",\"category\":\"Sofas & armchairs\",\"short_description\":\"        Corner sofa, 4-seat\"}},{\"39305528\":{\"name\":\"KIVIK\",\"category\":\"Sofas & armchairs\",\"short_description\":\"        Corner sofa, 4-seat\"}},{\"10233532\":{\"name\":\"NOLMYRA\",\"category\":\"Chairs\",\"short_description\":\"        Easy chair\"}},{\"99270465\":{\"name\":\"LANDSKRONA\",\"category\":\"Sofas & armchairs\",\"short_description\":\"        4-seat sofa\"}},{\"59270354\":{\"name\":\"LANDSKRONA\",\"category\":\"Sofas & armchairs\",\"short_description\":\"        4-seat sofa\"}},{\"49282989\":{\"name\":\"S\\xc3\\x96DERHAMN\",\"category\":\"Sofas & armchairs\",\"short_description\":\"        4-seat sofa\"}},{\"59284351\":{\"name\":\"S\\xc3\\x96DERHAMN\",\"category\":\"Sofas & armchairs\",\"short_description\":\"        4-seat sofa\"}},{\"9299661\":{\"name\":\"VIMLE\",\"category\":\"Sofas & armchairs\",\"short_description\":\"        Corner sofa, 4-seat\"}},{\"99285042\":{\"name\":\"VIMLE\",\"category\":\"Sofas & armchairs\",\"short_description\":\"        Corner sofa, 4-seat\"}},{\"19294502\":{\"name\":\"VIMLE\",\"category\":\"Sofas & armchairs\",\"short_description\":\"        Corner sofa, 4-seat\"}}]'"
      ]
     },
     "execution_count": 15,
     "metadata": {},
     "output_type": "execute_result"
    }
   ],
   "source": [
    "print(response.content)"
   ]
  },
  {
   "attachments": {},
   "cell_type": "markdown",
   "metadata": {},
   "source": [
    "This line get the content of the response from the API. In this case, it will print the JSON response returned by the API endpoint.\n",
    "the JSON file will Contain the next result:\n",
    "```\n",
    "[\n",
    "    {\n",
    "        \"39257457\":{\n",
    "            \"name\":\"LIDHULT\",\n",
    "            \"category\":\"Sofas & armchairs\",\n",
    "            \"short_description\":\"Corner sofa, 4-seat\"}\n",
    "            \n",
    "            },\n",
    "            \n",
    "    {\n",
    "        \"29284381\":{\n",
    "            \"name\":\"S\\xc3\\x96DERHAMN\",\n",
    "            \"category\":\"Sofas & armchairs\",\n",
    "            \"short_description\":\"Corner sofa, 4-seat\"}\n",
    "            \n",
    "            }\n",
    "            \n",
    "                \n",
    "                ] \n",
    "```\n",
    "```\n",
    "[\n",
    "    \n",
    "    {\n",
    "    \"id1\": {\n",
    "        \"field1\": \"value1\",\n",
    "        \"field2\": \"value2\",\n",
    "        \"field3\": \"value3\",\n",
    "        ...\n",
    "    }\n",
    "        },\n",
    "\n",
    "    {    \n",
    "    \"id2\": {\n",
    "        \"field1\": \"value1\",\n",
    "        \"field2\": \"value2\",\n",
    "        \"field3\": \"value3\",\n",
    "        ...\n",
    "    }\n",
    "    \n",
    "    },\n",
    "    ...\n",
    "]\n",
    "\n",
    "```"
   ]
  },
  {
   "cell_type": "markdown",
   "metadata": {},
   "source": []
  }
 ],
 "metadata": {
  "kernelspec": {
   "display_name": "Python 3",
   "language": "python",
   "name": "python3"
  },
  "language_info": {
   "codemirror_mode": {
    "name": "ipython",
    "version": 3
   },
   "file_extension": ".py",
   "mimetype": "text/x-python",
   "name": "python",
   "nbconvert_exporter": "python",
   "pygments_lexer": "ipython3",
   "version": "3.9.13"
  },
  "orig_nbformat": 4
 },
 "nbformat": 4,
 "nbformat_minor": 2
}
